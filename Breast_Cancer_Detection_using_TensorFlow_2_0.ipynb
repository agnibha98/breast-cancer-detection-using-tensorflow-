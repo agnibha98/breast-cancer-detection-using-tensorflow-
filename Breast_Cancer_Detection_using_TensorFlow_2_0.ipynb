{
  "nbformat": 4,
  "nbformat_minor": 0,
  "metadata": {
    "colab": {
      "name": "Breast Cancer Detection using TensorFlow 2.0",
      "provenance": []
    },
    "kernelspec": {
      "name": "python3",
      "display_name": "Python 3"
    }
  },
  "cells": [
    {
      "cell_type": "code",
      "metadata": {
        "id": "bcxTCxoW-D1V",
        "colab_type": "code",
        "colab": {}
      },
      "source": [
        "import tensorflow as tf"
      ],
      "execution_count": 0,
      "outputs": []
    },
    {
      "cell_type": "code",
      "metadata": {
        "id": "qTEZt8CD-IkH",
        "colab_type": "code",
        "colab": {}
      },
      "source": [
        "#Load the data\n",
        "from sklearn.datasets import load_breast_cancer"
      ],
      "execution_count": 0,
      "outputs": []
    },
    {
      "cell_type": "code",
      "metadata": {
        "id": "N0Bly-_FAQdi",
        "colab_type": "code",
        "colab": {}
      },
      "source": [
        "data=load_breast_cancer()"
      ],
      "execution_count": 0,
      "outputs": []
    },
    {
      "cell_type": "code",
      "metadata": {
        "id": "4Omlpc1xB2j5",
        "colab_type": "code",
        "outputId": "dd7447a3-d026-4673-9556-53e28157bce1",
        "colab": {
          "base_uri": "https://localhost:8080/",
          "height": 36
        }
      },
      "source": [
        "type(data)"
      ],
      "execution_count": 0,
      "outputs": [
        {
          "output_type": "execute_result",
          "data": {
            "text/plain": [
              "sklearn.utils.Bunch"
            ]
          },
          "metadata": {
            "tags": []
          },
          "execution_count": 4
        }
      ]
    },
    {
      "cell_type": "code",
      "metadata": {
        "id": "9Hq69wn0aJ83",
        "colab_type": "code",
        "outputId": "71723707-ff5c-4e82-e13b-64ad46abacd8",
        "colab": {
          "base_uri": "https://localhost:8080/",
          "height": 36
        }
      },
      "source": [
        "data.keys()"
      ],
      "execution_count": 0,
      "outputs": [
        {
          "output_type": "execute_result",
          "data": {
            "text/plain": [
              "dict_keys(['data', 'target', 'target_names', 'DESCR', 'feature_names', 'filename'])"
            ]
          },
          "metadata": {
            "tags": []
          },
          "execution_count": 5
        }
      ]
    },
    {
      "cell_type": "code",
      "metadata": {
        "id": "0gTu_j6yab0S",
        "colab_type": "code",
        "outputId": "eef9919b-368e-48cf-da99-7bbe6c9dd0cb",
        "colab": {
          "base_uri": "https://localhost:8080/",
          "height": 36
        }
      },
      "source": [
        "data.data.shape"
      ],
      "execution_count": 0,
      "outputs": [
        {
          "output_type": "execute_result",
          "data": {
            "text/plain": [
              "(569, 30)"
            ]
          },
          "metadata": {
            "tags": []
          },
          "execution_count": 6
        }
      ]
    },
    {
      "cell_type": "code",
      "metadata": {
        "id": "5tZ7Ox69apdG",
        "colab_type": "code",
        "outputId": "d875f575-46d3-400a-b5ca-7a9666c5a5d2",
        "colab": {
          "base_uri": "https://localhost:8080/",
          "height": 503
        }
      },
      "source": [
        "data.target"
      ],
      "execution_count": 0,
      "outputs": [
        {
          "output_type": "execute_result",
          "data": {
            "text/plain": [
              "array([0, 0, 0, 0, 0, 0, 0, 0, 0, 0, 0, 0, 0, 0, 0, 0, 0, 0, 0, 1, 1, 1,\n",
              "       0, 0, 0, 0, 0, 0, 0, 0, 0, 0, 0, 0, 0, 0, 0, 1, 0, 0, 0, 0, 0, 0,\n",
              "       0, 0, 1, 0, 1, 1, 1, 1, 1, 0, 0, 1, 0, 0, 1, 1, 1, 1, 0, 1, 0, 0,\n",
              "       1, 1, 1, 1, 0, 1, 0, 0, 1, 0, 1, 0, 0, 1, 1, 1, 0, 0, 1, 0, 0, 0,\n",
              "       1, 1, 1, 0, 1, 1, 0, 0, 1, 1, 1, 0, 0, 1, 1, 1, 1, 0, 1, 1, 0, 1,\n",
              "       1, 1, 1, 1, 1, 1, 1, 0, 0, 0, 1, 0, 0, 1, 1, 1, 0, 0, 1, 0, 1, 0,\n",
              "       0, 1, 0, 0, 1, 1, 0, 1, 1, 0, 1, 1, 1, 1, 0, 1, 1, 1, 1, 1, 1, 1,\n",
              "       1, 1, 0, 1, 1, 1, 1, 0, 0, 1, 0, 1, 1, 0, 0, 1, 1, 0, 0, 1, 1, 1,\n",
              "       1, 0, 1, 1, 0, 0, 0, 1, 0, 1, 0, 1, 1, 1, 0, 1, 1, 0, 0, 1, 0, 0,\n",
              "       0, 0, 1, 0, 0, 0, 1, 0, 1, 0, 1, 1, 0, 1, 0, 0, 0, 0, 1, 1, 0, 0,\n",
              "       1, 1, 1, 0, 1, 1, 1, 1, 1, 0, 0, 1, 1, 0, 1, 1, 0, 0, 1, 0, 1, 1,\n",
              "       1, 1, 0, 1, 1, 1, 1, 1, 0, 1, 0, 0, 0, 0, 0, 0, 0, 0, 0, 0, 0, 0,\n",
              "       0, 0, 1, 1, 1, 1, 1, 1, 0, 1, 0, 1, 1, 0, 1, 1, 0, 1, 0, 0, 1, 1,\n",
              "       1, 1, 1, 1, 1, 1, 1, 1, 1, 1, 1, 0, 1, 1, 0, 1, 0, 1, 1, 1, 1, 1,\n",
              "       1, 1, 1, 1, 1, 1, 1, 1, 1, 0, 1, 1, 1, 0, 1, 0, 1, 1, 1, 1, 0, 0,\n",
              "       0, 1, 1, 1, 1, 0, 1, 0, 1, 0, 1, 1, 1, 0, 1, 1, 1, 1, 1, 1, 1, 0,\n",
              "       0, 0, 1, 1, 1, 1, 1, 1, 1, 1, 1, 1, 1, 0, 0, 1, 0, 0, 0, 1, 0, 0,\n",
              "       1, 1, 1, 1, 1, 0, 1, 1, 1, 1, 1, 0, 1, 1, 1, 0, 1, 1, 0, 0, 1, 1,\n",
              "       1, 1, 1, 1, 0, 1, 1, 1, 1, 1, 1, 1, 0, 1, 1, 1, 1, 1, 0, 1, 1, 0,\n",
              "       1, 1, 1, 1, 1, 1, 1, 1, 1, 1, 1, 1, 0, 1, 0, 0, 1, 0, 1, 1, 1, 1,\n",
              "       1, 0, 1, 1, 0, 1, 0, 1, 1, 0, 1, 0, 1, 1, 1, 1, 1, 1, 1, 1, 0, 0,\n",
              "       1, 1, 1, 1, 1, 1, 0, 1, 1, 1, 1, 1, 1, 1, 1, 1, 1, 0, 1, 1, 1, 1,\n",
              "       1, 1, 1, 0, 1, 0, 1, 1, 0, 1, 1, 1, 1, 1, 0, 0, 1, 0, 1, 0, 1, 1,\n",
              "       1, 1, 1, 0, 1, 1, 0, 1, 0, 1, 0, 0, 1, 1, 1, 0, 1, 1, 1, 1, 1, 1,\n",
              "       1, 1, 1, 1, 1, 0, 1, 0, 0, 1, 1, 1, 1, 1, 1, 1, 1, 1, 1, 1, 1, 1,\n",
              "       1, 1, 1, 1, 1, 1, 1, 1, 1, 1, 1, 1, 0, 0, 0, 0, 0, 0, 1])"
            ]
          },
          "metadata": {
            "tags": []
          },
          "execution_count": 7
        }
      ]
    },
    {
      "cell_type": "code",
      "metadata": {
        "id": "sK5XN7U_a4lg",
        "colab_type": "code",
        "outputId": "96e39e47-7250-4e96-cce1-ddb5337677d8",
        "colab": {
          "base_uri": "https://localhost:8080/",
          "height": 36
        }
      },
      "source": [
        "data.target_names"
      ],
      "execution_count": 0,
      "outputs": [
        {
          "output_type": "execute_result",
          "data": {
            "text/plain": [
              "array(['malignant', 'benign'], dtype='<U9')"
            ]
          },
          "metadata": {
            "tags": []
          },
          "execution_count": 8
        }
      ]
    },
    {
      "cell_type": "code",
      "metadata": {
        "id": "Bz4p_rvLbALM",
        "colab_type": "code",
        "outputId": "62334e1d-1c61-4dca-f949-ca46b4dc564f",
        "colab": {
          "base_uri": "https://localhost:8080/",
          "height": 36
        }
      },
      "source": [
        "data.target.shape"
      ],
      "execution_count": 0,
      "outputs": [
        {
          "output_type": "execute_result",
          "data": {
            "text/plain": [
              "(569,)"
            ]
          },
          "metadata": {
            "tags": []
          },
          "execution_count": 9
        }
      ]
    },
    {
      "cell_type": "code",
      "metadata": {
        "id": "_o_vgpYdbJy_",
        "colab_type": "code",
        "outputId": "80a19aaf-1872-46ef-dbb6-c59d78331294",
        "colab": {
          "base_uri": "https://localhost:8080/",
          "height": 204
        }
      },
      "source": [
        "data.feature_names"
      ],
      "execution_count": 0,
      "outputs": [
        {
          "output_type": "execute_result",
          "data": {
            "text/plain": [
              "array(['mean radius', 'mean texture', 'mean perimeter', 'mean area',\n",
              "       'mean smoothness', 'mean compactness', 'mean concavity',\n",
              "       'mean concave points', 'mean symmetry', 'mean fractal dimension',\n",
              "       'radius error', 'texture error', 'perimeter error', 'area error',\n",
              "       'smoothness error', 'compactness error', 'concavity error',\n",
              "       'concave points error', 'symmetry error',\n",
              "       'fractal dimension error', 'worst radius', 'worst texture',\n",
              "       'worst perimeter', 'worst area', 'worst smoothness',\n",
              "       'worst compactness', 'worst concavity', 'worst concave points',\n",
              "       'worst symmetry', 'worst fractal dimension'], dtype='<U23')"
            ]
          },
          "metadata": {
            "tags": []
          },
          "execution_count": 10
        }
      ]
    },
    {
      "cell_type": "code",
      "metadata": {
        "id": "5wVqzKPRbV6q",
        "colab_type": "code",
        "colab": {}
      },
      "source": [
        ""
      ],
      "execution_count": 0,
      "outputs": []
    },
    {
      "cell_type": "markdown",
      "metadata": {
        "id": "Wp7rz557bYgr",
        "colab_type": "text"
      },
      "source": [
        "Train and test data"
      ]
    },
    {
      "cell_type": "code",
      "metadata": {
        "id": "BeT4CGrvbapF",
        "colab_type": "code",
        "colab": {}
      },
      "source": [
        "from sklearn.model_selection import train_test_split"
      ],
      "execution_count": 0,
      "outputs": []
    },
    {
      "cell_type": "code",
      "metadata": {
        "id": "SMr4R-UPbnVQ",
        "colab_type": "code",
        "colab": {}
      },
      "source": [
        "X_train,X_test,Y_train,Y_test=train_test_split(data.data,data.target,test_size=0.20)"
      ],
      "execution_count": 0,
      "outputs": []
    },
    {
      "cell_type": "code",
      "metadata": {
        "id": "hLCUPCsrcPv4",
        "colab_type": "code",
        "colab": {}
      },
      "source": [
        "N,D=X_train.shape"
      ],
      "execution_count": 0,
      "outputs": []
    },
    {
      "cell_type": "markdown",
      "metadata": {
        "id": "g2eosGq_czsV",
        "colab_type": "text"
      },
      "source": [
        "Scale the data"
      ]
    },
    {
      "cell_type": "code",
      "metadata": {
        "id": "-s8jxcQpcxHt",
        "colab_type": "code",
        "colab": {}
      },
      "source": [
        "from sklearn.preprocessing import StandardScaler\n",
        "scaler=StandardScaler()\n",
        "X_train=scaler.fit_transform(X_train)\n",
        "X_test=scaler.transform(X_test)"
      ],
      "execution_count": 0,
      "outputs": []
    },
    {
      "cell_type": "code",
      "metadata": {
        "id": "5_0QbijvdOYL",
        "colab_type": "code",
        "colab": {}
      },
      "source": [
        "#build the model\n",
        "model=tf.keras.models.Sequential([\n",
        "\n",
        "              tf.keras.layers.Input(shape=(D,)) ,\n",
        "              tf.keras.layers.Dense(1,activation='sigmoid')                 \n",
        "                                 \n",
        "\n",
        "    \n",
        "    \n",
        "])"
      ],
      "execution_count": 0,
      "outputs": []
    },
    {
      "cell_type": "code",
      "metadata": {
        "id": "UNJLBzrXdUc3",
        "colab_type": "code",
        "colab": {}
      },
      "source": [
        "model.compile(optimizer=\"adam\",loss='binary_crossentropy',metrics=['accuracy'])"
      ],
      "execution_count": 0,
      "outputs": []
    },
    {
      "cell_type": "code",
      "metadata": {
        "id": "1Sz4UVnGidR1",
        "colab_type": "code",
        "outputId": "d66c3cc4-0d80-4384-f48e-56c1713ba898",
        "colab": {
          "base_uri": "https://localhost:8080/",
          "height": 1000
        }
      },
      "source": [
        "num_of_epochs=150\n",
        "r=model.fit(X_train,Y_train,validation_data=(X_test,Y_test),epochs=num_of_epochs)\n"
      ],
      "execution_count": 0,
      "outputs": [
        {
          "output_type": "stream",
          "text": [
            "Epoch 1/150\n",
            "15/15 [==============================] - 0s 12ms/step - loss: 0.9814 - accuracy: 0.3604 - val_loss: 0.9984 - val_accuracy: 0.4035\n",
            "Epoch 2/150\n",
            "15/15 [==============================] - 0s 4ms/step - loss: 0.8532 - accuracy: 0.4308 - val_loss: 0.8827 - val_accuracy: 0.4561\n",
            "Epoch 3/150\n",
            "15/15 [==============================] - 0s 3ms/step - loss: 0.7587 - accuracy: 0.5011 - val_loss: 0.7805 - val_accuracy: 0.5351\n",
            "Epoch 4/150\n",
            "15/15 [==============================] - 0s 3ms/step - loss: 0.6867 - accuracy: 0.6044 - val_loss: 0.6923 - val_accuracy: 0.6053\n",
            "Epoch 5/150\n",
            "15/15 [==============================] - 0s 3ms/step - loss: 0.5959 - accuracy: 0.6791 - val_loss: 0.6178 - val_accuracy: 0.6842\n",
            "Epoch 6/150\n",
            "15/15 [==============================] - 0s 3ms/step - loss: 0.5502 - accuracy: 0.7473 - val_loss: 0.5559 - val_accuracy: 0.7544\n",
            "Epoch 7/150\n",
            "15/15 [==============================] - 0s 4ms/step - loss: 0.4919 - accuracy: 0.7912 - val_loss: 0.5039 - val_accuracy: 0.7632\n",
            "Epoch 8/150\n",
            "15/15 [==============================] - 0s 4ms/step - loss: 0.4520 - accuracy: 0.8242 - val_loss: 0.4594 - val_accuracy: 0.7807\n",
            "Epoch 9/150\n",
            "15/15 [==============================] - 0s 3ms/step - loss: 0.4291 - accuracy: 0.8462 - val_loss: 0.4222 - val_accuracy: 0.8421\n",
            "Epoch 10/150\n",
            "15/15 [==============================] - 0s 3ms/step - loss: 0.3860 - accuracy: 0.8637 - val_loss: 0.3900 - val_accuracy: 0.8509\n",
            "Epoch 11/150\n",
            "15/15 [==============================] - 0s 4ms/step - loss: 0.3723 - accuracy: 0.8791 - val_loss: 0.3625 - val_accuracy: 0.8596\n",
            "Epoch 12/150\n",
            "15/15 [==============================] - 0s 3ms/step - loss: 0.3427 - accuracy: 0.8923 - val_loss: 0.3381 - val_accuracy: 0.9035\n",
            "Epoch 13/150\n",
            "15/15 [==============================] - 0s 3ms/step - loss: 0.3158 - accuracy: 0.9033 - val_loss: 0.3176 - val_accuracy: 0.9035\n",
            "Epoch 14/150\n",
            "15/15 [==============================] - 0s 3ms/step - loss: 0.3034 - accuracy: 0.9143 - val_loss: 0.3000 - val_accuracy: 0.9298\n",
            "Epoch 15/150\n",
            "15/15 [==============================] - 0s 3ms/step - loss: 0.2892 - accuracy: 0.9187 - val_loss: 0.2845 - val_accuracy: 0.9298\n",
            "Epoch 16/150\n",
            "15/15 [==============================] - 0s 3ms/step - loss: 0.2776 - accuracy: 0.9253 - val_loss: 0.2704 - val_accuracy: 0.9474\n",
            "Epoch 17/150\n",
            "15/15 [==============================] - 0s 3ms/step - loss: 0.2607 - accuracy: 0.9253 - val_loss: 0.2577 - val_accuracy: 0.9474\n",
            "Epoch 18/150\n",
            "15/15 [==============================] - 0s 4ms/step - loss: 0.2473 - accuracy: 0.9341 - val_loss: 0.2467 - val_accuracy: 0.9474\n",
            "Epoch 19/150\n",
            "15/15 [==============================] - 0s 3ms/step - loss: 0.2456 - accuracy: 0.9385 - val_loss: 0.2366 - val_accuracy: 0.9474\n",
            "Epoch 20/150\n",
            "15/15 [==============================] - 0s 4ms/step - loss: 0.2291 - accuracy: 0.9407 - val_loss: 0.2282 - val_accuracy: 0.9474\n",
            "Epoch 21/150\n",
            "15/15 [==============================] - 0s 4ms/step - loss: 0.2200 - accuracy: 0.9429 - val_loss: 0.2197 - val_accuracy: 0.9474\n",
            "Epoch 22/150\n",
            "15/15 [==============================] - 0s 3ms/step - loss: 0.2124 - accuracy: 0.9451 - val_loss: 0.2125 - val_accuracy: 0.9474\n",
            "Epoch 23/150\n",
            "15/15 [==============================] - 0s 4ms/step - loss: 0.2032 - accuracy: 0.9495 - val_loss: 0.2060 - val_accuracy: 0.9474\n",
            "Epoch 24/150\n",
            "15/15 [==============================] - 0s 3ms/step - loss: 0.1974 - accuracy: 0.9560 - val_loss: 0.2000 - val_accuracy: 0.9474\n",
            "Epoch 25/150\n",
            "15/15 [==============================] - 0s 3ms/step - loss: 0.1941 - accuracy: 0.9604 - val_loss: 0.1945 - val_accuracy: 0.9474\n",
            "Epoch 26/150\n",
            "15/15 [==============================] - 0s 3ms/step - loss: 0.1889 - accuracy: 0.9604 - val_loss: 0.1894 - val_accuracy: 0.9474\n",
            "Epoch 27/150\n",
            "15/15 [==============================] - 0s 4ms/step - loss: 0.1810 - accuracy: 0.9626 - val_loss: 0.1847 - val_accuracy: 0.9474\n",
            "Epoch 28/150\n",
            "15/15 [==============================] - 0s 3ms/step - loss: 0.1897 - accuracy: 0.9626 - val_loss: 0.1803 - val_accuracy: 0.9474\n",
            "Epoch 29/150\n",
            "15/15 [==============================] - 0s 4ms/step - loss: 0.1787 - accuracy: 0.9626 - val_loss: 0.1765 - val_accuracy: 0.9474\n",
            "Epoch 30/150\n",
            "15/15 [==============================] - 0s 3ms/step - loss: 0.1682 - accuracy: 0.9604 - val_loss: 0.1726 - val_accuracy: 0.9474\n",
            "Epoch 31/150\n",
            "15/15 [==============================] - 0s 3ms/step - loss: 0.1723 - accuracy: 0.9626 - val_loss: 0.1689 - val_accuracy: 0.9474\n",
            "Epoch 32/150\n",
            "15/15 [==============================] - 0s 4ms/step - loss: 0.1674 - accuracy: 0.9648 - val_loss: 0.1656 - val_accuracy: 0.9474\n",
            "Epoch 33/150\n",
            "15/15 [==============================] - 0s 3ms/step - loss: 0.1653 - accuracy: 0.9648 - val_loss: 0.1625 - val_accuracy: 0.9561\n",
            "Epoch 34/150\n",
            "15/15 [==============================] - 0s 3ms/step - loss: 0.1580 - accuracy: 0.9648 - val_loss: 0.1596 - val_accuracy: 0.9561\n",
            "Epoch 35/150\n",
            "15/15 [==============================] - 0s 3ms/step - loss: 0.1489 - accuracy: 0.9648 - val_loss: 0.1570 - val_accuracy: 0.9561\n",
            "Epoch 36/150\n",
            "15/15 [==============================] - 0s 4ms/step - loss: 0.1490 - accuracy: 0.9670 - val_loss: 0.1545 - val_accuracy: 0.9474\n",
            "Epoch 37/150\n",
            "15/15 [==============================] - 0s 4ms/step - loss: 0.1442 - accuracy: 0.9692 - val_loss: 0.1521 - val_accuracy: 0.9474\n",
            "Epoch 38/150\n",
            "15/15 [==============================] - 0s 3ms/step - loss: 0.1416 - accuracy: 0.9692 - val_loss: 0.1498 - val_accuracy: 0.9474\n",
            "Epoch 39/150\n",
            "15/15 [==============================] - 0s 3ms/step - loss: 0.1435 - accuracy: 0.9692 - val_loss: 0.1477 - val_accuracy: 0.9474\n",
            "Epoch 40/150\n",
            "15/15 [==============================] - 0s 3ms/step - loss: 0.1358 - accuracy: 0.9692 - val_loss: 0.1457 - val_accuracy: 0.9474\n",
            "Epoch 41/150\n",
            "15/15 [==============================] - 0s 3ms/step - loss: 0.1441 - accuracy: 0.9692 - val_loss: 0.1438 - val_accuracy: 0.9474\n",
            "Epoch 42/150\n",
            "15/15 [==============================] - 0s 3ms/step - loss: 0.1381 - accuracy: 0.9692 - val_loss: 0.1420 - val_accuracy: 0.9561\n",
            "Epoch 43/150\n",
            "15/15 [==============================] - 0s 3ms/step - loss: 0.1384 - accuracy: 0.9692 - val_loss: 0.1403 - val_accuracy: 0.9561\n",
            "Epoch 44/150\n",
            "15/15 [==============================] - 0s 4ms/step - loss: 0.1289 - accuracy: 0.9692 - val_loss: 0.1386 - val_accuracy: 0.9561\n",
            "Epoch 45/150\n",
            "15/15 [==============================] - 0s 4ms/step - loss: 0.1356 - accuracy: 0.9692 - val_loss: 0.1371 - val_accuracy: 0.9561\n",
            "Epoch 46/150\n",
            "15/15 [==============================] - 0s 3ms/step - loss: 0.1259 - accuracy: 0.9692 - val_loss: 0.1356 - val_accuracy: 0.9561\n",
            "Epoch 47/150\n",
            "15/15 [==============================] - 0s 3ms/step - loss: 0.1227 - accuracy: 0.9692 - val_loss: 0.1341 - val_accuracy: 0.9561\n",
            "Epoch 48/150\n",
            "15/15 [==============================] - 0s 3ms/step - loss: 0.1346 - accuracy: 0.9692 - val_loss: 0.1328 - val_accuracy: 0.9561\n",
            "Epoch 49/150\n",
            "15/15 [==============================] - 0s 3ms/step - loss: 0.1290 - accuracy: 0.9692 - val_loss: 0.1316 - val_accuracy: 0.9561\n",
            "Epoch 50/150\n",
            "15/15 [==============================] - 0s 3ms/step - loss: 0.1261 - accuracy: 0.9692 - val_loss: 0.1304 - val_accuracy: 0.9561\n",
            "Epoch 51/150\n",
            "15/15 [==============================] - 0s 4ms/step - loss: 0.1173 - accuracy: 0.9736 - val_loss: 0.1292 - val_accuracy: 0.9561\n",
            "Epoch 52/150\n",
            "15/15 [==============================] - 0s 3ms/step - loss: 0.1151 - accuracy: 0.9736 - val_loss: 0.1281 - val_accuracy: 0.9561\n",
            "Epoch 53/150\n",
            "15/15 [==============================] - 0s 3ms/step - loss: 0.1158 - accuracy: 0.9736 - val_loss: 0.1270 - val_accuracy: 0.9561\n",
            "Epoch 54/150\n",
            "15/15 [==============================] - 0s 3ms/step - loss: 0.1123 - accuracy: 0.9736 - val_loss: 0.1259 - val_accuracy: 0.9561\n",
            "Epoch 55/150\n",
            "15/15 [==============================] - 0s 4ms/step - loss: 0.1114 - accuracy: 0.9736 - val_loss: 0.1250 - val_accuracy: 0.9561\n",
            "Epoch 56/150\n",
            "15/15 [==============================] - 0s 3ms/step - loss: 0.1150 - accuracy: 0.9736 - val_loss: 0.1241 - val_accuracy: 0.9561\n",
            "Epoch 57/150\n",
            "15/15 [==============================] - 0s 3ms/step - loss: 0.1160 - accuracy: 0.9736 - val_loss: 0.1231 - val_accuracy: 0.9561\n",
            "Epoch 58/150\n",
            "15/15 [==============================] - 0s 3ms/step - loss: 0.1106 - accuracy: 0.9736 - val_loss: 0.1223 - val_accuracy: 0.9561\n",
            "Epoch 59/150\n",
            "15/15 [==============================] - 0s 3ms/step - loss: 0.1109 - accuracy: 0.9736 - val_loss: 0.1214 - val_accuracy: 0.9561\n",
            "Epoch 60/150\n",
            "15/15 [==============================] - 0s 3ms/step - loss: 0.1096 - accuracy: 0.9736 - val_loss: 0.1206 - val_accuracy: 0.9561\n",
            "Epoch 61/150\n",
            "15/15 [==============================] - 0s 3ms/step - loss: 0.1072 - accuracy: 0.9736 - val_loss: 0.1199 - val_accuracy: 0.9561\n",
            "Epoch 62/150\n",
            "15/15 [==============================] - 0s 3ms/step - loss: 0.1042 - accuracy: 0.9736 - val_loss: 0.1191 - val_accuracy: 0.9561\n",
            "Epoch 63/150\n",
            "15/15 [==============================] - 0s 3ms/step - loss: 0.1044 - accuracy: 0.9736 - val_loss: 0.1184 - val_accuracy: 0.9561\n",
            "Epoch 64/150\n",
            "15/15 [==============================] - 0s 4ms/step - loss: 0.1036 - accuracy: 0.9736 - val_loss: 0.1177 - val_accuracy: 0.9561\n",
            "Epoch 65/150\n",
            "15/15 [==============================] - 0s 4ms/step - loss: 0.1046 - accuracy: 0.9736 - val_loss: 0.1170 - val_accuracy: 0.9561\n",
            "Epoch 66/150\n",
            "15/15 [==============================] - 0s 3ms/step - loss: 0.1020 - accuracy: 0.9758 - val_loss: 0.1164 - val_accuracy: 0.9561\n",
            "Epoch 67/150\n",
            "15/15 [==============================] - 0s 3ms/step - loss: 0.0998 - accuracy: 0.9758 - val_loss: 0.1158 - val_accuracy: 0.9561\n",
            "Epoch 68/150\n",
            "15/15 [==============================] - 0s 3ms/step - loss: 0.0989 - accuracy: 0.9758 - val_loss: 0.1152 - val_accuracy: 0.9561\n",
            "Epoch 69/150\n",
            "15/15 [==============================] - 0s 3ms/step - loss: 0.0985 - accuracy: 0.9780 - val_loss: 0.1147 - val_accuracy: 0.9561\n",
            "Epoch 70/150\n",
            "15/15 [==============================] - 0s 3ms/step - loss: 0.1003 - accuracy: 0.9780 - val_loss: 0.1142 - val_accuracy: 0.9561\n",
            "Epoch 71/150\n",
            "15/15 [==============================] - 0s 3ms/step - loss: 0.0973 - accuracy: 0.9780 - val_loss: 0.1136 - val_accuracy: 0.9561\n",
            "Epoch 72/150\n",
            "15/15 [==============================] - 0s 4ms/step - loss: 0.0967 - accuracy: 0.9780 - val_loss: 0.1131 - val_accuracy: 0.9649\n",
            "Epoch 73/150\n",
            "15/15 [==============================] - 0s 4ms/step - loss: 0.0953 - accuracy: 0.9780 - val_loss: 0.1126 - val_accuracy: 0.9649\n",
            "Epoch 74/150\n",
            "15/15 [==============================] - 0s 3ms/step - loss: 0.0934 - accuracy: 0.9780 - val_loss: 0.1121 - val_accuracy: 0.9649\n",
            "Epoch 75/150\n",
            "15/15 [==============================] - 0s 3ms/step - loss: 0.0937 - accuracy: 0.9780 - val_loss: 0.1117 - val_accuracy: 0.9649\n",
            "Epoch 76/150\n",
            "15/15 [==============================] - 0s 3ms/step - loss: 0.0959 - accuracy: 0.9780 - val_loss: 0.1112 - val_accuracy: 0.9649\n",
            "Epoch 77/150\n",
            "15/15 [==============================] - 0s 3ms/step - loss: 0.0931 - accuracy: 0.9802 - val_loss: 0.1108 - val_accuracy: 0.9649\n",
            "Epoch 78/150\n",
            "15/15 [==============================] - 0s 3ms/step - loss: 0.0962 - accuracy: 0.9802 - val_loss: 0.1104 - val_accuracy: 0.9649\n",
            "Epoch 79/150\n",
            "15/15 [==============================] - 0s 3ms/step - loss: 0.0909 - accuracy: 0.9802 - val_loss: 0.1100 - val_accuracy: 0.9649\n",
            "Epoch 80/150\n",
            "15/15 [==============================] - 0s 3ms/step - loss: 0.0957 - accuracy: 0.9802 - val_loss: 0.1096 - val_accuracy: 0.9649\n",
            "Epoch 81/150\n",
            "15/15 [==============================] - 0s 3ms/step - loss: 0.0895 - accuracy: 0.9802 - val_loss: 0.1092 - val_accuracy: 0.9649\n",
            "Epoch 82/150\n",
            "15/15 [==============================] - 0s 4ms/step - loss: 0.0924 - accuracy: 0.9802 - val_loss: 0.1088 - val_accuracy: 0.9649\n",
            "Epoch 83/150\n",
            "15/15 [==============================] - 0s 3ms/step - loss: 0.0884 - accuracy: 0.9802 - val_loss: 0.1085 - val_accuracy: 0.9649\n",
            "Epoch 84/150\n",
            "15/15 [==============================] - 0s 4ms/step - loss: 0.0897 - accuracy: 0.9802 - val_loss: 0.1082 - val_accuracy: 0.9649\n",
            "Epoch 85/150\n",
            "15/15 [==============================] - 0s 3ms/step - loss: 0.0896 - accuracy: 0.9802 - val_loss: 0.1078 - val_accuracy: 0.9649\n",
            "Epoch 86/150\n",
            "15/15 [==============================] - 0s 3ms/step - loss: 0.0896 - accuracy: 0.9824 - val_loss: 0.1075 - val_accuracy: 0.9649\n",
            "Epoch 87/150\n",
            "15/15 [==============================] - 0s 3ms/step - loss: 0.0870 - accuracy: 0.9824 - val_loss: 0.1072 - val_accuracy: 0.9649\n",
            "Epoch 88/150\n",
            "15/15 [==============================] - 0s 3ms/step - loss: 0.0907 - accuracy: 0.9824 - val_loss: 0.1069 - val_accuracy: 0.9649\n",
            "Epoch 89/150\n",
            "15/15 [==============================] - 0s 3ms/step - loss: 0.0895 - accuracy: 0.9824 - val_loss: 0.1067 - val_accuracy: 0.9649\n",
            "Epoch 90/150\n",
            "15/15 [==============================] - 0s 3ms/step - loss: 0.0852 - accuracy: 0.9824 - val_loss: 0.1065 - val_accuracy: 0.9649\n",
            "Epoch 91/150\n",
            "15/15 [==============================] - 0s 3ms/step - loss: 0.0824 - accuracy: 0.9824 - val_loss: 0.1062 - val_accuracy: 0.9649\n",
            "Epoch 92/150\n",
            "15/15 [==============================] - 0s 4ms/step - loss: 0.0832 - accuracy: 0.9824 - val_loss: 0.1060 - val_accuracy: 0.9649\n",
            "Epoch 93/150\n",
            "15/15 [==============================] - 0s 3ms/step - loss: 0.0817 - accuracy: 0.9824 - val_loss: 0.1057 - val_accuracy: 0.9649\n",
            "Epoch 94/150\n",
            "15/15 [==============================] - 0s 3ms/step - loss: 0.0805 - accuracy: 0.9824 - val_loss: 0.1055 - val_accuracy: 0.9649\n",
            "Epoch 95/150\n",
            "15/15 [==============================] - 0s 3ms/step - loss: 0.0838 - accuracy: 0.9824 - val_loss: 0.1052 - val_accuracy: 0.9649\n",
            "Epoch 96/150\n",
            "15/15 [==============================] - 0s 3ms/step - loss: 0.0832 - accuracy: 0.9824 - val_loss: 0.1049 - val_accuracy: 0.9649\n",
            "Epoch 97/150\n",
            "15/15 [==============================] - 0s 3ms/step - loss: 0.0807 - accuracy: 0.9824 - val_loss: 0.1048 - val_accuracy: 0.9649\n",
            "Epoch 98/150\n",
            "15/15 [==============================] - 0s 3ms/step - loss: 0.0837 - accuracy: 0.9824 - val_loss: 0.1046 - val_accuracy: 0.9649\n",
            "Epoch 99/150\n",
            "15/15 [==============================] - 0s 4ms/step - loss: 0.0855 - accuracy: 0.9824 - val_loss: 0.1044 - val_accuracy: 0.9649\n",
            "Epoch 100/150\n",
            "15/15 [==============================] - 0s 4ms/step - loss: 0.0812 - accuracy: 0.9824 - val_loss: 0.1042 - val_accuracy: 0.9649\n",
            "Epoch 101/150\n",
            "15/15 [==============================] - 0s 4ms/step - loss: 0.0777 - accuracy: 0.9824 - val_loss: 0.1040 - val_accuracy: 0.9649\n",
            "Epoch 102/150\n",
            "15/15 [==============================] - 0s 3ms/step - loss: 0.0819 - accuracy: 0.9824 - val_loss: 0.1038 - val_accuracy: 0.9649\n",
            "Epoch 103/150\n",
            "15/15 [==============================] - 0s 3ms/step - loss: 0.0772 - accuracy: 0.9824 - val_loss: 0.1037 - val_accuracy: 0.9649\n",
            "Epoch 104/150\n",
            "15/15 [==============================] - 0s 3ms/step - loss: 0.0796 - accuracy: 0.9824 - val_loss: 0.1036 - val_accuracy: 0.9649\n",
            "Epoch 105/150\n",
            "15/15 [==============================] - 0s 3ms/step - loss: 0.0767 - accuracy: 0.9846 - val_loss: 0.1034 - val_accuracy: 0.9649\n",
            "Epoch 106/150\n",
            "15/15 [==============================] - 0s 3ms/step - loss: 0.0857 - accuracy: 0.9868 - val_loss: 0.1032 - val_accuracy: 0.9649\n",
            "Epoch 107/150\n",
            "15/15 [==============================] - 0s 4ms/step - loss: 0.0754 - accuracy: 0.9890 - val_loss: 0.1030 - val_accuracy: 0.9649\n",
            "Epoch 108/150\n",
            "15/15 [==============================] - 0s 4ms/step - loss: 0.0769 - accuracy: 0.9890 - val_loss: 0.1029 - val_accuracy: 0.9649\n",
            "Epoch 109/150\n",
            "15/15 [==============================] - 0s 4ms/step - loss: 0.0745 - accuracy: 0.9890 - val_loss: 0.1028 - val_accuracy: 0.9649\n",
            "Epoch 110/150\n",
            "15/15 [==============================] - 0s 4ms/step - loss: 0.0741 - accuracy: 0.9890 - val_loss: 0.1027 - val_accuracy: 0.9649\n",
            "Epoch 111/150\n",
            "15/15 [==============================] - 0s 3ms/step - loss: 0.0755 - accuracy: 0.9890 - val_loss: 0.1026 - val_accuracy: 0.9649\n",
            "Epoch 112/150\n",
            "15/15 [==============================] - 0s 3ms/step - loss: 0.0758 - accuracy: 0.9890 - val_loss: 0.1025 - val_accuracy: 0.9649\n",
            "Epoch 113/150\n",
            "15/15 [==============================] - 0s 3ms/step - loss: 0.0730 - accuracy: 0.9890 - val_loss: 0.1024 - val_accuracy: 0.9649\n",
            "Epoch 114/150\n",
            "15/15 [==============================] - 0s 3ms/step - loss: 0.0778 - accuracy: 0.9890 - val_loss: 0.1022 - val_accuracy: 0.9649\n",
            "Epoch 115/150\n",
            "15/15 [==============================] - 0s 3ms/step - loss: 0.0720 - accuracy: 0.9890 - val_loss: 0.1022 - val_accuracy: 0.9649\n",
            "Epoch 116/150\n",
            "15/15 [==============================] - 0s 4ms/step - loss: 0.0757 - accuracy: 0.9890 - val_loss: 0.1021 - val_accuracy: 0.9649\n",
            "Epoch 117/150\n",
            "15/15 [==============================] - 0s 4ms/step - loss: 0.0710 - accuracy: 0.9890 - val_loss: 0.1020 - val_accuracy: 0.9649\n",
            "Epoch 118/150\n",
            "15/15 [==============================] - 0s 3ms/step - loss: 0.0715 - accuracy: 0.9890 - val_loss: 0.1019 - val_accuracy: 0.9649\n",
            "Epoch 119/150\n",
            "15/15 [==============================] - 0s 3ms/step - loss: 0.0716 - accuracy: 0.9890 - val_loss: 0.1018 - val_accuracy: 0.9649\n",
            "Epoch 120/150\n",
            "15/15 [==============================] - 0s 4ms/step - loss: 0.0704 - accuracy: 0.9890 - val_loss: 0.1017 - val_accuracy: 0.9649\n",
            "Epoch 121/150\n",
            "15/15 [==============================] - 0s 3ms/step - loss: 0.0712 - accuracy: 0.9890 - val_loss: 0.1016 - val_accuracy: 0.9649\n",
            "Epoch 122/150\n",
            "15/15 [==============================] - 0s 4ms/step - loss: 0.0772 - accuracy: 0.9890 - val_loss: 0.1015 - val_accuracy: 0.9649\n",
            "Epoch 123/150\n",
            "15/15 [==============================] - 0s 3ms/step - loss: 0.0714 - accuracy: 0.9890 - val_loss: 0.1015 - val_accuracy: 0.9649\n",
            "Epoch 124/150\n",
            "15/15 [==============================] - 0s 3ms/step - loss: 0.0714 - accuracy: 0.9890 - val_loss: 0.1014 - val_accuracy: 0.9649\n",
            "Epoch 125/150\n",
            "15/15 [==============================] - 0s 3ms/step - loss: 0.0752 - accuracy: 0.9890 - val_loss: 0.1013 - val_accuracy: 0.9649\n",
            "Epoch 126/150\n",
            "15/15 [==============================] - 0s 3ms/step - loss: 0.0723 - accuracy: 0.9890 - val_loss: 0.1012 - val_accuracy: 0.9649\n",
            "Epoch 127/150\n",
            "15/15 [==============================] - 0s 4ms/step - loss: 0.0713 - accuracy: 0.9890 - val_loss: 0.1012 - val_accuracy: 0.9649\n",
            "Epoch 128/150\n",
            "15/15 [==============================] - 0s 3ms/step - loss: 0.0686 - accuracy: 0.9890 - val_loss: 0.1011 - val_accuracy: 0.9649\n",
            "Epoch 129/150\n",
            "15/15 [==============================] - 0s 4ms/step - loss: 0.0707 - accuracy: 0.9890 - val_loss: 0.1010 - val_accuracy: 0.9649\n",
            "Epoch 130/150\n",
            "15/15 [==============================] - 0s 3ms/step - loss: 0.0670 - accuracy: 0.9890 - val_loss: 0.1010 - val_accuracy: 0.9649\n",
            "Epoch 131/150\n",
            "15/15 [==============================] - 0s 4ms/step - loss: 0.0666 - accuracy: 0.9890 - val_loss: 0.1010 - val_accuracy: 0.9649\n",
            "Epoch 132/150\n",
            "15/15 [==============================] - 0s 3ms/step - loss: 0.0675 - accuracy: 0.9868 - val_loss: 0.1009 - val_accuracy: 0.9649\n",
            "Epoch 133/150\n",
            "15/15 [==============================] - 0s 4ms/step - loss: 0.0682 - accuracy: 0.9868 - val_loss: 0.1008 - val_accuracy: 0.9649\n",
            "Epoch 134/150\n",
            "15/15 [==============================] - 0s 4ms/step - loss: 0.0666 - accuracy: 0.9868 - val_loss: 0.1007 - val_accuracy: 0.9649\n",
            "Epoch 135/150\n",
            "15/15 [==============================] - 0s 4ms/step - loss: 0.0684 - accuracy: 0.9868 - val_loss: 0.1007 - val_accuracy: 0.9649\n",
            "Epoch 136/150\n",
            "15/15 [==============================] - 0s 4ms/step - loss: 0.0670 - accuracy: 0.9868 - val_loss: 0.1006 - val_accuracy: 0.9649\n",
            "Epoch 137/150\n",
            "15/15 [==============================] - 0s 4ms/step - loss: 0.0822 - accuracy: 0.9868 - val_loss: 0.1007 - val_accuracy: 0.9649\n",
            "Epoch 138/150\n",
            "15/15 [==============================] - 0s 4ms/step - loss: 0.0642 - accuracy: 0.9868 - val_loss: 0.1006 - val_accuracy: 0.9649\n",
            "Epoch 139/150\n",
            "15/15 [==============================] - 0s 3ms/step - loss: 0.0647 - accuracy: 0.9868 - val_loss: 0.1006 - val_accuracy: 0.9649\n",
            "Epoch 140/150\n",
            "15/15 [==============================] - 0s 3ms/step - loss: 0.0685 - accuracy: 0.9868 - val_loss: 0.1006 - val_accuracy: 0.9649\n",
            "Epoch 141/150\n",
            "15/15 [==============================] - 0s 3ms/step - loss: 0.0722 - accuracy: 0.9868 - val_loss: 0.1005 - val_accuracy: 0.9649\n",
            "Epoch 142/150\n",
            "15/15 [==============================] - 0s 3ms/step - loss: 0.0640 - accuracy: 0.9868 - val_loss: 0.1007 - val_accuracy: 0.9649\n",
            "Epoch 143/150\n",
            "15/15 [==============================] - 0s 3ms/step - loss: 0.0657 - accuracy: 0.9868 - val_loss: 0.1007 - val_accuracy: 0.9649\n",
            "Epoch 144/150\n",
            "15/15 [==============================] - 0s 3ms/step - loss: 0.0681 - accuracy: 0.9868 - val_loss: 0.1007 - val_accuracy: 0.9649\n",
            "Epoch 145/150\n",
            "15/15 [==============================] - 0s 4ms/step - loss: 0.0635 - accuracy: 0.9868 - val_loss: 0.1006 - val_accuracy: 0.9649\n",
            "Epoch 146/150\n",
            "15/15 [==============================] - 0s 3ms/step - loss: 0.0625 - accuracy: 0.9868 - val_loss: 0.1006 - val_accuracy: 0.9649\n",
            "Epoch 147/150\n",
            "15/15 [==============================] - 0s 3ms/step - loss: 0.0655 - accuracy: 0.9868 - val_loss: 0.1006 - val_accuracy: 0.9649\n",
            "Epoch 148/150\n",
            "15/15 [==============================] - 0s 4ms/step - loss: 0.0668 - accuracy: 0.9868 - val_loss: 0.1005 - val_accuracy: 0.9649\n",
            "Epoch 149/150\n",
            "15/15 [==============================] - 0s 3ms/step - loss: 0.0618 - accuracy: 0.9868 - val_loss: 0.1006 - val_accuracy: 0.9649\n",
            "Epoch 150/150\n",
            "15/15 [==============================] - 0s 3ms/step - loss: 0.0677 - accuracy: 0.9868 - val_loss: 0.1007 - val_accuracy: 0.9649\n"
          ],
          "name": "stdout"
        }
      ]
    },
    {
      "cell_type": "code",
      "metadata": {
        "id": "XhDhYfwTi_eo",
        "colab_type": "code",
        "outputId": "a55c62be-e46f-4199-a423-5500128a5b1f",
        "colab": {
          "base_uri": "https://localhost:8080/",
          "height": 73
        }
      },
      "source": [
        "model.evaluate(X_train,Y_train)\n",
        "model.evaluate(X_test,Y_test)"
      ],
      "execution_count": 0,
      "outputs": [
        {
          "output_type": "stream",
          "text": [
            "15/15 [==============================] - 0s 1ms/step - loss: 0.0763 - accuracy: 0.9868\n",
            "4/4 [==============================] - 0s 2ms/step - loss: 0.1007 - accuracy: 0.9649\n"
          ],
          "name": "stdout"
        },
        {
          "output_type": "execute_result",
          "data": {
            "text/plain": [
              "[0.10065962374210358, 0.9649122953414917]"
            ]
          },
          "metadata": {
            "tags": []
          },
          "execution_count": 18
        }
      ]
    },
    {
      "cell_type": "code",
      "metadata": {
        "id": "pkzfvLzAjYgI",
        "colab_type": "code",
        "colab": {}
      },
      "source": [
        ""
      ],
      "execution_count": 0,
      "outputs": []
    }
  ]
}